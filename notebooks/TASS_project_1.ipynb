{
  "nbformat": 4,
  "nbformat_minor": 0,
  "metadata": {
    "colab": {
      "name": "TASS_project_1",
      "provenance": [],
      "authorship_tag": "ABX9TyO8CG/GrFNVZu0VsL7ThE72",
      "include_colab_link": true
    },
    "kernelspec": {
      "name": "python3",
      "display_name": "Python 3"
    },
    "language_info": {
      "name": "python"
    }
  },
  "cells": [
    {
      "cell_type": "markdown",
      "metadata": {
        "id": "view-in-github",
        "colab_type": "text"
      },
      "source": [
        "<a href=\"https://colab.research.google.com/github/agrudkow/tass-project-1/blob/master/notebooks/TASS_project_1.ipynb\" target=\"_parent\"><img src=\"https://colab.research.google.com/assets/colab-badge.svg\" alt=\"Open In Colab\"/></a>"
      ]
    },
    {
      "cell_type": "markdown",
      "metadata": {
        "id": "Ey-Bo_xbOBSV"
      },
      "source": [
        "# Instalacja NetowrkX"
      ]
    },
    {
      "cell_type": "code",
      "metadata": {
        "colab": {
          "base_uri": "https://localhost:8080/"
        },
        "id": "h_gCa1PFNwiY",
        "outputId": "b91d0807-84f0-46a8-f2dc-ac57a56decc1"
      },
      "source": [
        "pip install networkx[all]"
      ],
      "execution_count": 1,
      "outputs": [
        {
          "output_type": "stream",
          "name": "stdout",
          "text": [
            "Requirement already satisfied: networkx[all] in /usr/local/lib/python3.7/dist-packages (2.6.3)\n",
            "\u001b[33mWARNING: networkx 2.6.3 does not provide the extra 'all'\u001b[0m\n"
          ]
        }
      ]
    },
    {
      "cell_type": "markdown",
      "metadata": {
        "id": "uevTJgGeTms2"
      },
      "source": [
        "# Zbiór danych\n",
        "Numer zbioru danych badanego w zadaniu to **4**."
      ]
    },
    {
      "cell_type": "code",
      "metadata": {
        "colab": {
          "base_uri": "https://localhost:8080/"
        },
        "id": "Utt5NDVHT0iw",
        "outputId": "20f216fd-a69c-4e2f-88f7-0894589644c9"
      },
      "source": [
        "!curl https://www.ia.pw.edu.pl/~mkamola/dataset-big/4.txt -o graph_4.txt "
      ],
      "execution_count": 6,
      "outputs": [
        {
          "output_type": "stream",
          "name": "stdout",
          "text": [
            "  % Total    % Received % Xferd  Average Speed   Time    Time     Time  Current\n",
            "                                 Dload  Upload   Total   Spent    Left  Speed\n",
            "100 3622k  100 3622k    0     0  1577k      0  0:00:02  0:00:02 --:--:-- 1576k\n"
          ]
        }
      ]
    },
    {
      "cell_type": "code",
      "metadata": {
        "id": "EKWheg8COaKL"
      },
      "source": [
        "import networkx as nx"
      ],
      "execution_count": 2,
      "outputs": []
    },
    {
      "cell_type": "code",
      "metadata": {
        "id": "qW0T_sD9OIp-"
      },
      "source": [
        "G = nx.Graph()\n",
        "G.add_edge('A', 'B', weight=4)\n",
        "G.add_edge('B', 'D', weight=2)\n",
        "G.add_edge('A', 'C', weight=3)\n",
        "G.add_edge('C', 'D', weight=4)\n"
      ],
      "execution_count": 3,
      "outputs": []
    },
    {
      "cell_type": "code",
      "metadata": {
        "colab": {
          "base_uri": "https://localhost:8080/"
        },
        "id": "7K-SLp7ZOcur",
        "outputId": "03e4346c-25b4-447f-b957-ca25d5a50466"
      },
      "source": [
        "nx.shortest_path(G, 'A', 'D', weight='weight')"
      ],
      "execution_count": 4,
      "outputs": [
        {
          "output_type": "execute_result",
          "data": {
            "text/plain": [
              "['A', 'B', 'D']"
            ]
          },
          "metadata": {},
          "execution_count": 4
        }
      ]
    },
    {
      "cell_type": "code",
      "metadata": {
        "id": "NkPGbh1OOeSf"
      },
      "source": [
        ""
      ],
      "execution_count": null,
      "outputs": []
    }
  ]
}